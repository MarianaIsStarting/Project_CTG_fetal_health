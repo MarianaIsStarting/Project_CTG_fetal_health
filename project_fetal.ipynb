{
 "cells": [
  {
   "cell_type": "code",
   "execution_count": 84,
   "id": "a03fa66a",
   "metadata": {},
   "outputs": [],
   "source": [
    "import pandas as pd\n",
    "import numpy as np\n",
    "import scipy.stats as st\n",
    "import matplotlib.pyplot as plt\n"
   ]
  },
  {
   "cell_type": "code",
   "execution_count": 3,
   "id": "a39ef8be",
   "metadata": {},
   "outputs": [
    {
     "data": {
      "text/plain": [
       "(2126, 22)"
      ]
     },
     "execution_count": 3,
     "metadata": {},
     "output_type": "execute_result"
    }
   ],
   "source": [
    "## from a kaggle dataset, containig CTG's observations already classidied as healthy, \n",
    "# suspicious or pathological by 3 obstetricians.\n",
    "\n",
    "\n",
    "fetal = pd.read_csv(\"fetal_health.csv\")\n",
    "\n",
    "fetal.shape"
   ]
  },
  {
   "cell_type": "code",
   "execution_count": 4,
   "id": "6a52d253",
   "metadata": {},
   "outputs": [
    {
     "data": {
      "text/html": [
       "<div>\n",
       "<style scoped>\n",
       "    .dataframe tbody tr th:only-of-type {\n",
       "        vertical-align: middle;\n",
       "    }\n",
       "\n",
       "    .dataframe tbody tr th {\n",
       "        vertical-align: top;\n",
       "    }\n",
       "\n",
       "    .dataframe thead th {\n",
       "        text-align: right;\n",
       "    }\n",
       "</style>\n",
       "<table border=\"1\" class=\"dataframe\">\n",
       "  <thead>\n",
       "    <tr style=\"text-align: right;\">\n",
       "      <th></th>\n",
       "      <th>baseline value</th>\n",
       "      <th>accelerations</th>\n",
       "      <th>fetal_movement</th>\n",
       "      <th>uterine_contractions</th>\n",
       "      <th>light_decelerations</th>\n",
       "      <th>severe_decelerations</th>\n",
       "      <th>prolongued_decelerations</th>\n",
       "      <th>abnormal_short_term_variability</th>\n",
       "      <th>mean_value_of_short_term_variability</th>\n",
       "      <th>percentage_of_time_with_abnormal_long_term_variability</th>\n",
       "      <th>...</th>\n",
       "      <th>histogram_min</th>\n",
       "      <th>histogram_max</th>\n",
       "      <th>histogram_number_of_peaks</th>\n",
       "      <th>histogram_number_of_zeroes</th>\n",
       "      <th>histogram_mode</th>\n",
       "      <th>histogram_mean</th>\n",
       "      <th>histogram_median</th>\n",
       "      <th>histogram_variance</th>\n",
       "      <th>histogram_tendency</th>\n",
       "      <th>fetal_health</th>\n",
       "    </tr>\n",
       "  </thead>\n",
       "  <tbody>\n",
       "    <tr>\n",
       "      <th>0</th>\n",
       "      <td>120.0</td>\n",
       "      <td>0.000</td>\n",
       "      <td>0.0</td>\n",
       "      <td>0.000</td>\n",
       "      <td>0.000</td>\n",
       "      <td>0.0</td>\n",
       "      <td>0.0</td>\n",
       "      <td>73.0</td>\n",
       "      <td>0.5</td>\n",
       "      <td>43.0</td>\n",
       "      <td>...</td>\n",
       "      <td>62.0</td>\n",
       "      <td>126.0</td>\n",
       "      <td>2.0</td>\n",
       "      <td>0.0</td>\n",
       "      <td>120.0</td>\n",
       "      <td>137.0</td>\n",
       "      <td>121.0</td>\n",
       "      <td>73.0</td>\n",
       "      <td>1.0</td>\n",
       "      <td>2.0</td>\n",
       "    </tr>\n",
       "    <tr>\n",
       "      <th>1</th>\n",
       "      <td>132.0</td>\n",
       "      <td>0.006</td>\n",
       "      <td>0.0</td>\n",
       "      <td>0.006</td>\n",
       "      <td>0.003</td>\n",
       "      <td>0.0</td>\n",
       "      <td>0.0</td>\n",
       "      <td>17.0</td>\n",
       "      <td>2.1</td>\n",
       "      <td>0.0</td>\n",
       "      <td>...</td>\n",
       "      <td>68.0</td>\n",
       "      <td>198.0</td>\n",
       "      <td>6.0</td>\n",
       "      <td>1.0</td>\n",
       "      <td>141.0</td>\n",
       "      <td>136.0</td>\n",
       "      <td>140.0</td>\n",
       "      <td>12.0</td>\n",
       "      <td>0.0</td>\n",
       "      <td>1.0</td>\n",
       "    </tr>\n",
       "    <tr>\n",
       "      <th>2</th>\n",
       "      <td>133.0</td>\n",
       "      <td>0.003</td>\n",
       "      <td>0.0</td>\n",
       "      <td>0.008</td>\n",
       "      <td>0.003</td>\n",
       "      <td>0.0</td>\n",
       "      <td>0.0</td>\n",
       "      <td>16.0</td>\n",
       "      <td>2.1</td>\n",
       "      <td>0.0</td>\n",
       "      <td>...</td>\n",
       "      <td>68.0</td>\n",
       "      <td>198.0</td>\n",
       "      <td>5.0</td>\n",
       "      <td>1.0</td>\n",
       "      <td>141.0</td>\n",
       "      <td>135.0</td>\n",
       "      <td>138.0</td>\n",
       "      <td>13.0</td>\n",
       "      <td>0.0</td>\n",
       "      <td>1.0</td>\n",
       "    </tr>\n",
       "    <tr>\n",
       "      <th>3</th>\n",
       "      <td>134.0</td>\n",
       "      <td>0.003</td>\n",
       "      <td>0.0</td>\n",
       "      <td>0.008</td>\n",
       "      <td>0.003</td>\n",
       "      <td>0.0</td>\n",
       "      <td>0.0</td>\n",
       "      <td>16.0</td>\n",
       "      <td>2.4</td>\n",
       "      <td>0.0</td>\n",
       "      <td>...</td>\n",
       "      <td>53.0</td>\n",
       "      <td>170.0</td>\n",
       "      <td>11.0</td>\n",
       "      <td>0.0</td>\n",
       "      <td>137.0</td>\n",
       "      <td>134.0</td>\n",
       "      <td>137.0</td>\n",
       "      <td>13.0</td>\n",
       "      <td>1.0</td>\n",
       "      <td>1.0</td>\n",
       "    </tr>\n",
       "    <tr>\n",
       "      <th>4</th>\n",
       "      <td>132.0</td>\n",
       "      <td>0.007</td>\n",
       "      <td>0.0</td>\n",
       "      <td>0.008</td>\n",
       "      <td>0.000</td>\n",
       "      <td>0.0</td>\n",
       "      <td>0.0</td>\n",
       "      <td>16.0</td>\n",
       "      <td>2.4</td>\n",
       "      <td>0.0</td>\n",
       "      <td>...</td>\n",
       "      <td>53.0</td>\n",
       "      <td>170.0</td>\n",
       "      <td>9.0</td>\n",
       "      <td>0.0</td>\n",
       "      <td>137.0</td>\n",
       "      <td>136.0</td>\n",
       "      <td>138.0</td>\n",
       "      <td>11.0</td>\n",
       "      <td>1.0</td>\n",
       "      <td>1.0</td>\n",
       "    </tr>\n",
       "  </tbody>\n",
       "</table>\n",
       "<p>5 rows × 22 columns</p>\n",
       "</div>"
      ],
      "text/plain": [
       "   baseline value  accelerations  fetal_movement  uterine_contractions  \\\n",
       "0           120.0          0.000             0.0                 0.000   \n",
       "1           132.0          0.006             0.0                 0.006   \n",
       "2           133.0          0.003             0.0                 0.008   \n",
       "3           134.0          0.003             0.0                 0.008   \n",
       "4           132.0          0.007             0.0                 0.008   \n",
       "\n",
       "   light_decelerations  severe_decelerations  prolongued_decelerations  \\\n",
       "0                0.000                   0.0                       0.0   \n",
       "1                0.003                   0.0                       0.0   \n",
       "2                0.003                   0.0                       0.0   \n",
       "3                0.003                   0.0                       0.0   \n",
       "4                0.000                   0.0                       0.0   \n",
       "\n",
       "   abnormal_short_term_variability  mean_value_of_short_term_variability  \\\n",
       "0                             73.0                                   0.5   \n",
       "1                             17.0                                   2.1   \n",
       "2                             16.0                                   2.1   \n",
       "3                             16.0                                   2.4   \n",
       "4                             16.0                                   2.4   \n",
       "\n",
       "   percentage_of_time_with_abnormal_long_term_variability  ...  histogram_min  \\\n",
       "0                                               43.0       ...           62.0   \n",
       "1                                                0.0       ...           68.0   \n",
       "2                                                0.0       ...           68.0   \n",
       "3                                                0.0       ...           53.0   \n",
       "4                                                0.0       ...           53.0   \n",
       "\n",
       "   histogram_max  histogram_number_of_peaks  histogram_number_of_zeroes  \\\n",
       "0          126.0                        2.0                         0.0   \n",
       "1          198.0                        6.0                         1.0   \n",
       "2          198.0                        5.0                         1.0   \n",
       "3          170.0                       11.0                         0.0   \n",
       "4          170.0                        9.0                         0.0   \n",
       "\n",
       "   histogram_mode  histogram_mean  histogram_median  histogram_variance  \\\n",
       "0           120.0           137.0             121.0                73.0   \n",
       "1           141.0           136.0             140.0                12.0   \n",
       "2           141.0           135.0             138.0                13.0   \n",
       "3           137.0           134.0             137.0                13.0   \n",
       "4           137.0           136.0             138.0                11.0   \n",
       "\n",
       "   histogram_tendency  fetal_health  \n",
       "0                 1.0           2.0  \n",
       "1                 0.0           1.0  \n",
       "2                 0.0           1.0  \n",
       "3                 1.0           1.0  \n",
       "4                 1.0           1.0  \n",
       "\n",
       "[5 rows x 22 columns]"
      ]
     },
     "execution_count": 4,
     "metadata": {},
     "output_type": "execute_result"
    }
   ],
   "source": [
    "fetal.head()"
   ]
  },
  {
   "cell_type": "code",
   "execution_count": 51,
   "id": "a896479a",
   "metadata": {},
   "outputs": [
    {
     "data": {
      "text/plain": [
       "Index(['baseline value', 'accelerations', 'fetal_movement',\n",
       "       'uterine_contractions', 'light_decelerations', 'severe_decelerations',\n",
       "       'prolongued_decelerations', 'abnormal_short_term_variability',\n",
       "       'mean_value_of_short_term_variability',\n",
       "       'percentage_of_time_with_abnormal_long_term_variability',\n",
       "       'mean_value_of_long_term_variability', 'histogram_width',\n",
       "       'histogram_min', 'histogram_max', 'histogram_number_of_peaks',\n",
       "       'histogram_number_of_zeroes', 'histogram_mode', 'histogram_mean',\n",
       "       'histogram_median', 'histogram_variance', 'histogram_tendency',\n",
       "       'fetal_health'],\n",
       "      dtype='object')"
      ]
     },
     "execution_count": 51,
     "metadata": {},
     "output_type": "execute_result"
    }
   ],
   "source": [
    "fetal.columns"
   ]
  },
  {
   "cell_type": "code",
   "execution_count": null,
   "id": "5e364b54",
   "metadata": {},
   "outputs": [],
   "source": [
    "####  HYPOTHESIS TESTING   ####\n",
    "\n",
    "# 1. set the hypothesis\n",
    "# 2. choose the significance levele\n",
    "# 3. sample\n",
    "# 4. compute de statistic\n",
    "# 5. get p-value\n",
    "# 6. decide"
   ]
  },
  {
   "cell_type": "code",
   "execution_count": 26,
   "id": "9b7176e5",
   "metadata": {},
   "outputs": [],
   "source": [
    "#### A normal fetal heart rate is between 110-160 bpm.\n",
    "\n",
    "# 1) H0: HR =< 110bpt is pathological\n",
    "#    H1: pathological > 110 is pathological \n",
    "\n",
    "# 2) significance level: \n",
    "\n",
    "alpha = 0.05"
   ]
  },
  {
   "cell_type": "code",
   "execution_count": 10,
   "id": "03b88c63",
   "metadata": {},
   "outputs": [
    {
     "data": {
      "text/plain": [
       "133.3038570084666"
      ]
     },
     "execution_count": 10,
     "metadata": {},
     "output_type": "execute_result"
    }
   ],
   "source": [
    "# 3) sample = fetal HR and fetal health\n",
    "\n",
    "hr_sample = fetal[fetal[\"fetal_health\"] == 3][\"baseline value\"]\n",
    "\n",
    "hr_sample\n",
    "\n",
    "# 4) compute statistics\n",
    "\n",
    "mean_hr = fetal[\"baseline value\"].mean()\n",
    "\n",
    "mean_hr"
   ]
  },
  {
   "cell_type": "code",
   "execution_count": 20,
   "id": "a372b6fd",
   "metadata": {},
   "outputs": [],
   "source": [
    "std_hr = hr_sample.std(ddof=1)\n",
    "\n",
    "n = len(hr_sample)   \n",
    "\n",
    "stats = st.ttest_1samp(hr_sample, 110, alternative = \"greater\")\n"
   ]
  },
  {
   "cell_type": "code",
   "execution_count": 24,
   "id": "426ad740",
   "metadata": {},
   "outputs": [
    {
     "data": {
      "text/plain": [
       "2.995706464965556e-72"
      ]
     },
     "execution_count": 24,
     "metadata": {},
     "output_type": "execute_result"
    }
   ],
   "source": [
    "p_value = stats[1]\n",
    "p_value"
   ]
  },
  {
   "cell_type": "code",
   "execution_count": 27,
   "id": "e261fecf",
   "metadata": {},
   "outputs": [
    {
     "name": "stdout",
     "output_type": "stream",
     "text": [
      "we CAN reject the null hypothesis\n"
     ]
    }
   ],
   "source": [
    "if p_value > alpha:\n",
    "    print(\"we CAN NOT reject the null hypothesis\")\n",
    "else:\n",
    "    print(\"we CAN reject the null hypothesis\")\n"
   ]
  },
  {
   "cell_type": "code",
   "execution_count": null,
   "id": "67761ab7",
   "metadata": {},
   "outputs": [],
   "source": [
    "## p value very low, so i have to reject my H0 --> HR lower than 110 does not mean \n",
    "# necessarily a pathological situation."
   ]
  },
  {
   "cell_type": "code",
   "execution_count": null,
   "id": "d765bb69",
   "metadata": {},
   "outputs": [],
   "source": [
    "## do the other extreme os HR means it is pathological?\n",
    "\n",
    "# 1) H0: HR => 160bpt is pathological\n",
    "#    H1: pathological < 160\n",
    "\n",
    "# 2) significance level: \n",
    "\n",
    "alpha = 0.05"
   ]
  },
  {
   "cell_type": "code",
   "execution_count": 17,
   "id": "9300024c",
   "metadata": {},
   "outputs": [
    {
     "data": {
      "text/plain": [
       "133.3038570084666"
      ]
     },
     "execution_count": 17,
     "metadata": {},
     "output_type": "execute_result"
    }
   ],
   "source": [
    "# 3) sample = fetal HR and fetal health\n",
    "\n",
    "hr_sample = fetal[fetal[\"fetal_health\"] == 3][\"baseline value\"]\n",
    "\n",
    "hr_sample\n",
    "\n",
    "# 4) compute statistics\n",
    "\n",
    "mean_hr = fetal[\"baseline value\"].mean()\n",
    "\n",
    "mean_hr"
   ]
  },
  {
   "cell_type": "code",
   "execution_count": 29,
   "id": "e11e308f",
   "metadata": {},
   "outputs": [
    {
     "data": {
      "text/plain": [
       "TtestResult(statistic=-39.818417392733046, pvalue=5.939834580069891e-90, df=175)"
      ]
     },
     "execution_count": 29,
     "metadata": {},
     "output_type": "execute_result"
    }
   ],
   "source": [
    "std_hr = hr_sample.std(ddof=1)\n",
    " \n",
    "\n",
    "stats = st.ttest_1samp(hr_sample, 160, alternative = \"less\")\n",
    "stats"
   ]
  },
  {
   "cell_type": "code",
   "execution_count": 30,
   "id": "90d8f484",
   "metadata": {},
   "outputs": [
    {
     "data": {
      "text/plain": [
       "5.939834580069891e-90"
      ]
     },
     "execution_count": 30,
     "metadata": {},
     "output_type": "execute_result"
    }
   ],
   "source": [
    "p_value = stats[1]\n",
    "p_value"
   ]
  },
  {
   "cell_type": "code",
   "execution_count": 31,
   "id": "cd6be6c9",
   "metadata": {},
   "outputs": [
    {
     "name": "stdout",
     "output_type": "stream",
     "text": [
      "we CAN reject the null hypothesis\n"
     ]
    }
   ],
   "source": [
    "if p_value > alpha:\n",
    "    print(\"we CAN NOT reject the null hypothesis\")\n",
    "else:\n",
    "    print(\"we CAN reject the null hypothesis\")"
   ]
  },
  {
   "cell_type": "code",
   "execution_count": null,
   "id": "b8f19af0",
   "metadata": {},
   "outputs": [],
   "source": [
    "## p value very low, so i have to reject my H0 --> HR greater than 160 does not mean \n",
    "# necessarily a pathological situation."
   ]
  },
  {
   "cell_type": "code",
   "execution_count": 100,
   "id": "15562691",
   "metadata": {},
   "outputs": [
    {
     "data": {
      "image/png": "[encoded data removed]",
      "text/plain": [
       "<Figure size 640x480 with 1 Axes>"
      ]
     },
     "metadata": {},
     "output_type": "display_data"
    }
   ],
   "source": [
    "\n",
    "#### looking for HR graphs\n",
    "\n",
    "\n",
    "plt.plot(fetal[\"baseline value\"], \"o\")\n",
    "plt.plot(fetal[fetal[\"fetal_health\"]==1][\"baseline value\"], \"o\", color = \"green\", label= \"Healthy\")\n",
    "plt.plot(fetal[fetal[\"fetal_health\"]==2][\"baseline value\"], \"o\", color = \"orange\", label = \"Suspicious\")\n",
    "plt.plot(fetal[fetal[\"fetal_health\"]==3][\"baseline value\"], \"o\", color = \"red\", label= \"Pathological\")\n",
    "plt.title(\"Heart Rate per Fetal Health\")\n",
    "plt.xlabel(\"Observations\")\n",
    "plt.ylabel(\"Baseline Heart Rate\")\n",
    "plt.legend(loc='upper right')\n",
    "plt.show()"
   ]
  },
  {
   "cell_type": "code",
   "execution_count": null,
   "id": "a65d38b8",
   "metadata": {},
   "outputs": [],
   "source": []
  },
  {
   "cell_type": "code",
   "execution_count": null,
   "id": "4f82e713",
   "metadata": {},
   "outputs": [],
   "source": [
    "# attempt to ise decelarations: ignored\n",
    "\n",
    "\n",
    "# H0: pathological babies have => 1 prolongued deceraltion\n",
    "# H1 : patolhogical babies have < 1prolongues decelaration\n",
    "\n",
    "alpha = 0.05"
   ]
  },
  {
   "cell_type": "code",
   "execution_count": 54,
   "id": "943ee9d0",
   "metadata": {},
   "outputs": [
    {
     "data": {
      "text/plain": [
       "3.292568203198495e-06"
      ]
     },
     "execution_count": 54,
     "metadata": {},
     "output_type": "execute_result"
    }
   ],
   "source": [
    "# 3) sample = prolongues decelartation and fetal health\n",
    "\n",
    "sev_deceleration_3 = fetal[fetal[\"fetal_health\"] == 3][\"severe_decelerations\"]\n",
    "\n",
    "sev_deceleration_3\n",
    "\n",
    "# 4) compute statistics\n",
    "\n",
    "mean_sev_dec_3 = fetal[\"severe_decelerations\"].mean()\n",
    "\n",
    "mean_sev_dec_3"
   ]
  },
  {
   "cell_type": "code",
   "execution_count": 57,
   "id": "c35e4e77",
   "metadata": {},
   "outputs": [
    {
     "data": {
      "text/plain": [
       "TtestResult(statistic=-72898.19927238849, pvalue=0.0, df=175)"
      ]
     },
     "execution_count": 57,
     "metadata": {},
     "output_type": "execute_result"
    }
   ],
   "source": [
    "std_sev_dec_3 = sev_deceleration_3.std(ddof=1)\n",
    " \n",
    "\n",
    "stats = st.ttest_1samp(sev_deceleration_3, 1, alternative = \"less\")\n",
    "stats"
   ]
  },
  {
   "cell_type": "code",
   "execution_count": 59,
   "id": "aae72ba7",
   "metadata": {},
   "outputs": [
    {
     "data": {
      "text/plain": [
       "0.0"
      ]
     },
     "execution_count": 59,
     "metadata": {},
     "output_type": "execute_result"
    }
   ],
   "source": [
    "p_value = stats[1]\n",
    "p_value"
   ]
  },
  {
   "cell_type": "code",
   "execution_count": 60,
   "id": "9889128c",
   "metadata": {},
   "outputs": [
    {
     "name": "stdout",
     "output_type": "stream",
     "text": [
      "we CAN reject the null hypothesis\n"
     ]
    }
   ],
   "source": [
    "if p_value > alpha:\n",
    "    print(\"we CAN NOT reject the null hypothesis\")\n",
    "else:\n",
    "    print(\"we CAN reject the null hypothesis\")"
   ]
  },
  {
   "cell_type": "code",
   "execution_count": 32,
   "id": "63c2fe54",
   "metadata": {},
   "outputs": [
    {
     "data": {
      "text/html": [
       "<div>\n",
       "<style scoped>\n",
       "    .dataframe tbody tr th:only-of-type {\n",
       "        vertical-align: middle;\n",
       "    }\n",
       "\n",
       "    .dataframe tbody tr th {\n",
       "        vertical-align: top;\n",
       "    }\n",
       "\n",
       "    .dataframe thead th {\n",
       "        text-align: right;\n",
       "    }\n",
       "</style>\n",
       "<table border=\"1\" class=\"dataframe\">\n",
       "  <thead>\n",
       "    <tr style=\"text-align: right;\">\n",
       "      <th></th>\n",
       "      <th>baseline value</th>\n",
       "      <th>accelerations</th>\n",
       "      <th>fetal_movement</th>\n",
       "      <th>uterine_contractions</th>\n",
       "      <th>light_decelerations</th>\n",
       "      <th>severe_decelerations</th>\n",
       "      <th>prolongued_decelerations</th>\n",
       "      <th>abnormal_short_term_variability</th>\n",
       "      <th>mean_value_of_short_term_variability</th>\n",
       "      <th>percentage_of_time_with_abnormal_long_term_variability</th>\n",
       "      <th>...</th>\n",
       "      <th>histogram_min</th>\n",
       "      <th>histogram_max</th>\n",
       "      <th>histogram_number_of_peaks</th>\n",
       "      <th>histogram_number_of_zeroes</th>\n",
       "      <th>histogram_mode</th>\n",
       "      <th>histogram_mean</th>\n",
       "      <th>histogram_median</th>\n",
       "      <th>histogram_variance</th>\n",
       "      <th>histogram_tendency</th>\n",
       "      <th>fetal_health</th>\n",
       "    </tr>\n",
       "  </thead>\n",
       "  <tbody>\n",
       "    <tr>\n",
       "      <th>0</th>\n",
       "      <td>120.0</td>\n",
       "      <td>0.000</td>\n",
       "      <td>0.000</td>\n",
       "      <td>0.000</td>\n",
       "      <td>0.000</td>\n",
       "      <td>0.0</td>\n",
       "      <td>0.0</td>\n",
       "      <td>73.0</td>\n",
       "      <td>0.5</td>\n",
       "      <td>43.0</td>\n",
       "      <td>...</td>\n",
       "      <td>62.0</td>\n",
       "      <td>126.0</td>\n",
       "      <td>2.0</td>\n",
       "      <td>0.0</td>\n",
       "      <td>120.0</td>\n",
       "      <td>137.0</td>\n",
       "      <td>121.0</td>\n",
       "      <td>73.0</td>\n",
       "      <td>1.0</td>\n",
       "      <td>2.0</td>\n",
       "    </tr>\n",
       "    <tr>\n",
       "      <th>1</th>\n",
       "      <td>132.0</td>\n",
       "      <td>0.006</td>\n",
       "      <td>0.000</td>\n",
       "      <td>0.006</td>\n",
       "      <td>0.003</td>\n",
       "      <td>0.0</td>\n",
       "      <td>0.0</td>\n",
       "      <td>17.0</td>\n",
       "      <td>2.1</td>\n",
       "      <td>0.0</td>\n",
       "      <td>...</td>\n",
       "      <td>68.0</td>\n",
       "      <td>198.0</td>\n",
       "      <td>6.0</td>\n",
       "      <td>1.0</td>\n",
       "      <td>141.0</td>\n",
       "      <td>136.0</td>\n",
       "      <td>140.0</td>\n",
       "      <td>12.0</td>\n",
       "      <td>0.0</td>\n",
       "      <td>1.0</td>\n",
       "    </tr>\n",
       "    <tr>\n",
       "      <th>2</th>\n",
       "      <td>133.0</td>\n",
       "      <td>0.003</td>\n",
       "      <td>0.000</td>\n",
       "      <td>0.008</td>\n",
       "      <td>0.003</td>\n",
       "      <td>0.0</td>\n",
       "      <td>0.0</td>\n",
       "      <td>16.0</td>\n",
       "      <td>2.1</td>\n",
       "      <td>0.0</td>\n",
       "      <td>...</td>\n",
       "      <td>68.0</td>\n",
       "      <td>198.0</td>\n",
       "      <td>5.0</td>\n",
       "      <td>1.0</td>\n",
       "      <td>141.0</td>\n",
       "      <td>135.0</td>\n",
       "      <td>138.0</td>\n",
       "      <td>13.0</td>\n",
       "      <td>0.0</td>\n",
       "      <td>1.0</td>\n",
       "    </tr>\n",
       "    <tr>\n",
       "      <th>3</th>\n",
       "      <td>134.0</td>\n",
       "      <td>0.003</td>\n",
       "      <td>0.000</td>\n",
       "      <td>0.008</td>\n",
       "      <td>0.003</td>\n",
       "      <td>0.0</td>\n",
       "      <td>0.0</td>\n",
       "      <td>16.0</td>\n",
       "      <td>2.4</td>\n",
       "      <td>0.0</td>\n",
       "      <td>...</td>\n",
       "      <td>53.0</td>\n",
       "      <td>170.0</td>\n",
       "      <td>11.0</td>\n",
       "      <td>0.0</td>\n",
       "      <td>137.0</td>\n",
       "      <td>134.0</td>\n",
       "      <td>137.0</td>\n",
       "      <td>13.0</td>\n",
       "      <td>1.0</td>\n",
       "      <td>1.0</td>\n",
       "    </tr>\n",
       "    <tr>\n",
       "      <th>4</th>\n",
       "      <td>132.0</td>\n",
       "      <td>0.007</td>\n",
       "      <td>0.000</td>\n",
       "      <td>0.008</td>\n",
       "      <td>0.000</td>\n",
       "      <td>0.0</td>\n",
       "      <td>0.0</td>\n",
       "      <td>16.0</td>\n",
       "      <td>2.4</td>\n",
       "      <td>0.0</td>\n",
       "      <td>...</td>\n",
       "      <td>53.0</td>\n",
       "      <td>170.0</td>\n",
       "      <td>9.0</td>\n",
       "      <td>0.0</td>\n",
       "      <td>137.0</td>\n",
       "      <td>136.0</td>\n",
       "      <td>138.0</td>\n",
       "      <td>11.0</td>\n",
       "      <td>1.0</td>\n",
       "      <td>1.0</td>\n",
       "    </tr>\n",
       "    <tr>\n",
       "      <th>...</th>\n",
       "      <td>...</td>\n",
       "      <td>...</td>\n",
       "      <td>...</td>\n",
       "      <td>...</td>\n",
       "      <td>...</td>\n",
       "      <td>...</td>\n",
       "      <td>...</td>\n",
       "      <td>...</td>\n",
       "      <td>...</td>\n",
       "      <td>...</td>\n",
       "      <td>...</td>\n",
       "      <td>...</td>\n",
       "      <td>...</td>\n",
       "      <td>...</td>\n",
       "      <td>...</td>\n",
       "      <td>...</td>\n",
       "      <td>...</td>\n",
       "      <td>...</td>\n",
       "      <td>...</td>\n",
       "      <td>...</td>\n",
       "      <td>...</td>\n",
       "    </tr>\n",
       "    <tr>\n",
       "      <th>2121</th>\n",
       "      <td>140.0</td>\n",
       "      <td>0.000</td>\n",
       "      <td>0.000</td>\n",
       "      <td>0.007</td>\n",
       "      <td>0.000</td>\n",
       "      <td>0.0</td>\n",
       "      <td>0.0</td>\n",
       "      <td>79.0</td>\n",
       "      <td>0.2</td>\n",
       "      <td>25.0</td>\n",
       "      <td>...</td>\n",
       "      <td>137.0</td>\n",
       "      <td>177.0</td>\n",
       "      <td>4.0</td>\n",
       "      <td>0.0</td>\n",
       "      <td>153.0</td>\n",
       "      <td>150.0</td>\n",
       "      <td>152.0</td>\n",
       "      <td>2.0</td>\n",
       "      <td>0.0</td>\n",
       "      <td>2.0</td>\n",
       "    </tr>\n",
       "    <tr>\n",
       "      <th>2122</th>\n",
       "      <td>140.0</td>\n",
       "      <td>0.001</td>\n",
       "      <td>0.000</td>\n",
       "      <td>0.007</td>\n",
       "      <td>0.000</td>\n",
       "      <td>0.0</td>\n",
       "      <td>0.0</td>\n",
       "      <td>78.0</td>\n",
       "      <td>0.4</td>\n",
       "      <td>22.0</td>\n",
       "      <td>...</td>\n",
       "      <td>103.0</td>\n",
       "      <td>169.0</td>\n",
       "      <td>6.0</td>\n",
       "      <td>0.0</td>\n",
       "      <td>152.0</td>\n",
       "      <td>148.0</td>\n",
       "      <td>151.0</td>\n",
       "      <td>3.0</td>\n",
       "      <td>1.0</td>\n",
       "      <td>2.0</td>\n",
       "    </tr>\n",
       "    <tr>\n",
       "      <th>2123</th>\n",
       "      <td>140.0</td>\n",
       "      <td>0.001</td>\n",
       "      <td>0.000</td>\n",
       "      <td>0.007</td>\n",
       "      <td>0.000</td>\n",
       "      <td>0.0</td>\n",
       "      <td>0.0</td>\n",
       "      <td>79.0</td>\n",
       "      <td>0.4</td>\n",
       "      <td>20.0</td>\n",
       "      <td>...</td>\n",
       "      <td>103.0</td>\n",
       "      <td>170.0</td>\n",
       "      <td>5.0</td>\n",
       "      <td>0.0</td>\n",
       "      <td>153.0</td>\n",
       "      <td>148.0</td>\n",
       "      <td>152.0</td>\n",
       "      <td>4.0</td>\n",
       "      <td>1.0</td>\n",
       "      <td>2.0</td>\n",
       "    </tr>\n",
       "    <tr>\n",
       "      <th>2124</th>\n",
       "      <td>140.0</td>\n",
       "      <td>0.001</td>\n",
       "      <td>0.000</td>\n",
       "      <td>0.006</td>\n",
       "      <td>0.000</td>\n",
       "      <td>0.0</td>\n",
       "      <td>0.0</td>\n",
       "      <td>78.0</td>\n",
       "      <td>0.4</td>\n",
       "      <td>27.0</td>\n",
       "      <td>...</td>\n",
       "      <td>103.0</td>\n",
       "      <td>169.0</td>\n",
       "      <td>6.0</td>\n",
       "      <td>0.0</td>\n",
       "      <td>152.0</td>\n",
       "      <td>147.0</td>\n",
       "      <td>151.0</td>\n",
       "      <td>4.0</td>\n",
       "      <td>1.0</td>\n",
       "      <td>2.0</td>\n",
       "    </tr>\n",
       "    <tr>\n",
       "      <th>2125</th>\n",
       "      <td>142.0</td>\n",
       "      <td>0.002</td>\n",
       "      <td>0.002</td>\n",
       "      <td>0.008</td>\n",
       "      <td>0.000</td>\n",
       "      <td>0.0</td>\n",
       "      <td>0.0</td>\n",
       "      <td>74.0</td>\n",
       "      <td>0.4</td>\n",
       "      <td>36.0</td>\n",
       "      <td>...</td>\n",
       "      <td>117.0</td>\n",
       "      <td>159.0</td>\n",
       "      <td>2.0</td>\n",
       "      <td>1.0</td>\n",
       "      <td>145.0</td>\n",
       "      <td>143.0</td>\n",
       "      <td>145.0</td>\n",
       "      <td>1.0</td>\n",
       "      <td>0.0</td>\n",
       "      <td>1.0</td>\n",
       "    </tr>\n",
       "  </tbody>\n",
       "</table>\n",
       "<p>2126 rows × 22 columns</p>\n",
       "</div>"
      ],
      "text/plain": [
       "      baseline value  accelerations  fetal_movement  uterine_contractions  \\\n",
       "0              120.0          0.000           0.000                 0.000   \n",
       "1              132.0          0.006           0.000                 0.006   \n",
       "2              133.0          0.003           0.000                 0.008   \n",
       "3              134.0          0.003           0.000                 0.008   \n",
       "4              132.0          0.007           0.000                 0.008   \n",
       "...              ...            ...             ...                   ...   \n",
       "2121           140.0          0.000           0.000                 0.007   \n",
       "2122           140.0          0.001           0.000                 0.007   \n",
       "2123           140.0          0.001           0.000                 0.007   \n",
       "2124           140.0          0.001           0.000                 0.006   \n",
       "2125           142.0          0.002           0.002                 0.008   \n",
       "\n",
       "      light_decelerations  severe_decelerations  prolongued_decelerations  \\\n",
       "0                   0.000                   0.0                       0.0   \n",
       "1                   0.003                   0.0                       0.0   \n",
       "2                   0.003                   0.0                       0.0   \n",
       "3                   0.003                   0.0                       0.0   \n",
       "4                   0.000                   0.0                       0.0   \n",
       "...                   ...                   ...                       ...   \n",
       "2121                0.000                   0.0                       0.0   \n",
       "2122                0.000                   0.0                       0.0   \n",
       "2123                0.000                   0.0                       0.0   \n",
       "2124                0.000                   0.0                       0.0   \n",
       "2125                0.000                   0.0                       0.0   \n",
       "\n",
       "      abnormal_short_term_variability  mean_value_of_short_term_variability  \\\n",
       "0                                73.0                                   0.5   \n",
       "1                                17.0                                   2.1   \n",
       "2                                16.0                                   2.1   \n",
       "3                                16.0                                   2.4   \n",
       "4                                16.0                                   2.4   \n",
       "...                               ...                                   ...   \n",
       "2121                             79.0                                   0.2   \n",
       "2122                             78.0                                   0.4   \n",
       "2123                             79.0                                   0.4   \n",
       "2124                             78.0                                   0.4   \n",
       "2125                             74.0                                   0.4   \n",
       "\n",
       "      percentage_of_time_with_abnormal_long_term_variability  ...  \\\n",
       "0                                                  43.0       ...   \n",
       "1                                                   0.0       ...   \n",
       "2                                                   0.0       ...   \n",
       "3                                                   0.0       ...   \n",
       "4                                                   0.0       ...   \n",
       "...                                                 ...       ...   \n",
       "2121                                               25.0       ...   \n",
       "2122                                               22.0       ...   \n",
       "2123                                               20.0       ...   \n",
       "2124                                               27.0       ...   \n",
       "2125                                               36.0       ...   \n",
       "\n",
       "      histogram_min  histogram_max  histogram_number_of_peaks  \\\n",
       "0              62.0          126.0                        2.0   \n",
       "1              68.0          198.0                        6.0   \n",
       "2              68.0          198.0                        5.0   \n",
       "3              53.0          170.0                       11.0   \n",
       "4              53.0          170.0                        9.0   \n",
       "...             ...            ...                        ...   \n",
       "2121          137.0          177.0                        4.0   \n",
       "2122          103.0          169.0                        6.0   \n",
       "2123          103.0          170.0                        5.0   \n",
       "2124          103.0          169.0                        6.0   \n",
       "2125          117.0          159.0                        2.0   \n",
       "\n",
       "      histogram_number_of_zeroes  histogram_mode  histogram_mean  \\\n",
       "0                            0.0           120.0           137.0   \n",
       "1                            1.0           141.0           136.0   \n",
       "2                            1.0           141.0           135.0   \n",
       "3                            0.0           137.0           134.0   \n",
       "4                            0.0           137.0           136.0   \n",
       "...                          ...             ...             ...   \n",
       "2121                         0.0           153.0           150.0   \n",
       "2122                         0.0           152.0           148.0   \n",
       "2123                         0.0           153.0           148.0   \n",
       "2124                         0.0           152.0           147.0   \n",
       "2125                         1.0           145.0           143.0   \n",
       "\n",
       "      histogram_median  histogram_variance  histogram_tendency  fetal_health  \n",
       "0                121.0                73.0                 1.0           2.0  \n",
       "1                140.0                12.0                 0.0           1.0  \n",
       "2                138.0                13.0                 0.0           1.0  \n",
       "3                137.0                13.0                 1.0           1.0  \n",
       "4                138.0                11.0                 1.0           1.0  \n",
       "...                ...                 ...                 ...           ...  \n",
       "2121             152.0                 2.0                 0.0           2.0  \n",
       "2122             151.0                 3.0                 1.0           2.0  \n",
       "2123             152.0                 4.0                 1.0           2.0  \n",
       "2124             151.0                 4.0                 1.0           2.0  \n",
       "2125             145.0                 1.0                 0.0           1.0  \n",
       "\n",
       "[2126 rows x 22 columns]"
      ]
     },
     "execution_count": 32,
     "metadata": {},
     "output_type": "execute_result"
    }
   ],
   "source": [
    "fetal"
   ]
  },
  {
   "cell_type": "code",
   "execution_count": 110,
   "id": "562d2854",
   "metadata": {},
   "outputs": [
    {
     "data": {
      "text/plain": [
       "1       12.0\n",
       "2       13.0\n",
       "3       13.0\n",
       "4       11.0\n",
       "12       7.0\n",
       "        ... \n",
       "2117     1.0\n",
       "2118     2.0\n",
       "2119     1.0\n",
       "2120     2.0\n",
       "2125     1.0\n",
       "Name: histogram_variance, Length: 1655, dtype: float64"
      ]
     },
     "execution_count": 110,
     "metadata": {},
     "output_type": "execute_result"
    }
   ],
   "source": [
    "\n",
    "## 3\n",
    "\n",
    "### finding confidence interval for variability amongst healthy babies\n",
    "\n",
    "\n",
    "variability_healthy_1 = fetal[fetal[\"fetal_health\"]== 1][\"histogram_variance\"]\n",
    "\n",
    "variability_healthy_1"
   ]
  },
  {
   "cell_type": "code",
   "execution_count": 111,
   "id": "04189908",
   "metadata": {},
   "outputs": [
    {
     "data": {
      "text/plain": [
       "(16.20355269754065, 18.755963918773546)"
      ]
     },
     "execution_count": 111,
     "metadata": {},
     "output_type": "execute_result"
    }
   ],
   "source": [
    "## what is variability of healthy babies??\n",
    "\n",
    "std_variability_1 = variability_healthy_1.std(ddof=1)\n",
    "\n",
    "mean_variability_1 = variability_healthy_1.mean()\n",
    "\n",
    "n_1 = len(variability_healthy_1)\n",
    "\n",
    "variability_interval_1 = st.t.interval(0.98, n_1-1, loc = mean_variability_1, scale = std_variability_1/np.sqrt(n_1))\n",
    "variability_interval_1\n",
    "\n",
    "\n",
    "\n",
    "## with 98% confidence, healthy babies HR variability is between 16 and 18,7, which is \n",
    "# in accordance with the guidelines, that say between 5 - 25"
   ]
  },
  {
   "cell_type": "code",
   "execution_count": 108,
   "id": "a26cace9",
   "metadata": {},
   "outputs": [
    {
     "data": {
      "text/plain": [
       "0       73.0\n",
       "10       9.0\n",
       "11      10.0\n",
       "17      45.0\n",
       "28      73.0\n",
       "        ... \n",
       "2086     1.0\n",
       "2121     2.0\n",
       "2122     3.0\n",
       "2123     4.0\n",
       "2124     4.0\n",
       "Name: histogram_variance, Length: 295, dtype: float64"
      ]
     },
     "execution_count": 108,
     "metadata": {},
     "output_type": "execute_result"
    }
   ],
   "source": [
    "\n",
    "### finding confidence interval for variability amongst suspicious babies\n",
    "\n",
    "variability_susp_2 = fetal[fetal[\"fetal_health\"]== 2][\"histogram_variance\"]\n",
    "\n",
    "variability_susp_2"
   ]
  },
  {
   "cell_type": "code",
   "execution_count": 109,
   "id": "261ae6a9",
   "metadata": {},
   "outputs": [
    {
     "data": {
      "text/plain": [
       "(4.728096026538621, 9.699022617529176)"
      ]
     },
     "execution_count": 109,
     "metadata": {},
     "output_type": "execute_result"
    }
   ],
   "source": [
    "## what is variability of HR these babies??\n",
    "\n",
    "std_variability_2 = variability_susp_2.std(ddof=1)\n",
    "\n",
    "mean_variability_2 = variability_susp_2.mean()\n",
    "\n",
    "n_2 = len(variability_susp_2)\n",
    "\n",
    "variability_interval_2 = st.t.interval(0.98, n_2-1, loc = mean_variability_2, scale = std_variability_2/np.sqrt(n_2))\n",
    "variability_interval_2\n",
    "\n",
    "\n",
    "## with 98% confidence, babies with a suspicion of abnormality have HR variability\n",
    "# between 4,7 and 9,6, which is on low end of the narmal range \n"
   ]
  },
  {
   "cell_type": "code",
   "execution_count": 112,
   "id": "2f8be96e",
   "metadata": {},
   "outputs": [
    {
     "data": {
      "text/plain": [
       "5       170.0\n",
       "6       215.0\n",
       "7         3.0\n",
       "8         3.0\n",
       "9         1.0\n",
       "        ...  \n",
       "2036     28.0\n",
       "2037     21.0\n",
       "2038     28.0\n",
       "2039     25.0\n",
       "2048    128.0\n",
       "Name: histogram_variance, Length: 176, dtype: float64"
      ]
     },
     "execution_count": 112,
     "metadata": {},
     "output_type": "execute_result"
    }
   ],
   "source": [
    "## What about pathological??? \n",
    "\n",
    "\n",
    "variability_sick_3 = fetal[fetal[\"fetal_health\"]== 3][\"histogram_variance\"]\n",
    "\n",
    "variability_sick_3\n"
   ]
  },
  {
   "cell_type": "code",
   "execution_count": 113,
   "id": "0787a4a2",
   "metadata": {},
   "outputs": [
    {
     "data": {
      "text/plain": [
       "(40.01145035126596, 61.45445873964314)"
      ]
     },
     "execution_count": 113,
     "metadata": {},
     "output_type": "execute_result"
    }
   ],
   "source": [
    "## what is variability of these babies??\n",
    "\n",
    "std_variability_3 = variability_sick_3.std(ddof=1)\n",
    "\n",
    "mean_variability_3 = variability_sick_3.mean()\n",
    "\n",
    "n_3 = len(variability_sick_3)\n",
    "\n",
    "variability_interval_3 = st.t.interval(0.98, n_3-1, loc = mean_variability_3, scale = std_variability_3/np.sqrt(n_3))\n",
    "variability_interval_3\n",
    "\n",
    "\n",
    "## with 98% confidence, babies with pathological situation have HR variability \n",
    "# between 40 and 61 which is a lot then then what is considered normal (5-25.)"
   ]
  },
  {
   "cell_type": "code",
   "execution_count": null,
   "id": "6c49015b",
   "metadata": {},
   "outputs": [],
   "source": [
    "\n",
    "\n",
    "##### trying to plot confidence intervals\n",
    "\n"
   ]
  },
  {
   "cell_type": "code",
   "execution_count": 123,
   "id": "1c21844c",
   "metadata": {},
   "outputs": [],
   "source": [
    "variability_interval_1 = st.t.interval(0.98, n_1-1, loc = mean_variability_1, scale = std_variability_1/np.sqrt(n_1))\n",
    "variability_interval_2 = st.t.interval(0.98, n_2-1, loc = mean_variability_2, scale = std_variability_2/np.sqrt(n_2))\n",
    "variability_interval_3 = st.t.interval(0.98, n_3-1, loc = mean_variability_3, scale = std_variability_3/np.sqrt(n_3))\n"
   ]
  },
  {
   "cell_type": "code",
   "execution_count": 125,
   "id": "acffa9f0",
   "metadata": {},
   "outputs": [
    {
     "data": {
      "text/plain": [
       "(16.20355269754065, 18.755963918773546)"
      ]
     },
     "execution_count": 125,
     "metadata": {},
     "output_type": "execute_result"
    }
   ],
   "source": [
    "variability_interval_1"
   ]
  },
  {
   "cell_type": "code",
   "execution_count": 126,
   "id": "1facdaca",
   "metadata": {},
   "outputs": [
    {
     "data": {
      "text/plain": [
       "(4.728096026538621, 9.699022617529176)"
      ]
     },
     "execution_count": 126,
     "metadata": {},
     "output_type": "execute_result"
    }
   ],
   "source": [
    "variability_interval_2"
   ]
  },
  {
   "cell_type": "code",
   "execution_count": 127,
   "id": "123cd9e4",
   "metadata": {},
   "outputs": [
    {
     "data": {
      "text/plain": [
       "(40.01145035126596, 61.45445873964314)"
      ]
     },
     "execution_count": 127,
     "metadata": {},
     "output_type": "execute_result"
    }
   ],
   "source": [
    "variability_interval_3"
   ]
  },
  {
   "cell_type": "code",
   "execution_count": 142,
   "id": "6c52f7d2",
   "metadata": {},
   "outputs": [
    {
     "data": {
      "image/png": "[encoded data removed]",
      "text/plain": [
       "<Figure size 500x500 with 1 Axes>"
      ]
     },
     "metadata": {},
     "output_type": "display_data"
    }
   ],
   "source": [
    "plt.figure(figsize=(5, 5))\n",
    "#y = 5\n",
    "#x = fetal\n",
    "plt.axhline(y=5, xmin = 0.01, color = \"blue\", linestyle = \"dotted\")\n",
    "plt.axhline(y=25, xmin = 0.01, color = \"blue\", linestyle = \"dotted\")\n",
    "\n",
    "plt.errorbar(x=0, y=mean_variability_1, yerr=(variability_interval_1[1]-mean_variability_1), fmt='o', color= \"green\", elinewidth = 22, label='Healthy')\n",
    "plt.errorbar(x=1, y=mean_variability_2, yerr=(variability_interval_2[1]-mean_variability_2), fmt='o', color = \"orange\", elinewidth = 22, label='Suspicious')\n",
    "plt.errorbar(x=2, y=mean_variability_3, yerr=(variability_interval_3[1]-mean_variability_3), fmt='o', color = \"red\", elinewidth = 22, label='Pathological')\n",
    "plt.xticks([])\n",
    "plt.ylabel('Variance (bpm)')\n",
    "plt.title('Confidence intervals of Variance for Fetal Health')\n",
    "\n",
    "plt.legend(loc='upper left')\n",
    "plt.show()"
   ]
  },
  {
   "cell_type": "code",
   "execution_count": 167,
   "id": "a0545080",
   "metadata": {},
   "outputs": [
    {
     "data": {
      "image/png": "[encoded data removed]",
      "text/plain": [
       "<Figure size 640x480 with 1 Axes>"
      ]
     },
     "metadata": {},
     "output_type": "display_data"
    }
   ],
   "source": [
    "plt.bar(\"Healthy\", len(fetal_movements_1),color = \"green\")\n",
    "plt.bar(\"Suspicious\", len(fetal_movements_2), color = \"orange\")\n",
    "plt.bar(\"Pathological\", len(fetal_movements_3), color = \"red\")\n",
    "#plt.xlabel(\"Fetal Health Group\")\n",
    "plt.ylabel(\"Number of observations (CTG's)\")\n",
    "plt.title(\"Number of observations per group\")\n",
    "plt.show()"
   ]
  },
  {
   "cell_type": "code",
   "execution_count": 152,
   "id": "2f24fc03",
   "metadata": {},
   "outputs": [
    {
     "name": "stdout",
     "output_type": "stream",
     "text": [
      "1655\n",
      "295\n",
      "176\n"
     ]
    }
   ],
   "source": [
    "print(len(fetal_movements_1))\n",
    "print(len(fetal_movements_2))\n",
    "print(len(fetal_movements_3))"
   ]
  },
  {
   "cell_type": "code",
   "execution_count": null,
   "id": "96226162",
   "metadata": {},
   "outputs": [],
   "source": []
  },
  {
   "cell_type": "code",
   "execution_count": 151,
   "id": "a332771e",
   "metadata": {},
   "outputs": [
    {
     "data": {
      "text/plain": [
       "0.007963141993957704"
      ]
     },
     "execution_count": 151,
     "metadata": {},
     "output_type": "execute_result"
    }
   ],
   "source": [
    "## Fetal movementas and fetal healthy\n",
    "\n",
    "fetal_movements_1 = fetal[fetal[\"fetal_health\"] == 1][\"fetal_movement\"]\n",
    "\n",
    "mean = fetal_movements_1.mean()\n",
    "mean"
   ]
  },
  {
   "cell_type": "code",
   "execution_count": 67,
   "id": "627a07d5",
   "metadata": {},
   "outputs": [
    {
     "data": {
      "text/plain": [
       "0.02567613636363636"
      ]
     },
     "execution_count": 67,
     "metadata": {},
     "output_type": "execute_result"
    }
   ],
   "source": [
    "fetal_movements_3 = fetal[fetal[\"fetal_health\"] == 3][\"fetal_movement\"]\n",
    "\n",
    "mean = fetal_movements_3.mean()\n",
    "mean\n"
   ]
  },
  {
   "cell_type": "code",
   "execution_count": null,
   "id": "83f1cf5a",
   "metadata": {},
   "outputs": [],
   "source": [
    "##   DO healthy babies have more movemnets than pathologoical babaies??"
   ]
  },
  {
   "cell_type": "code",
   "execution_count": 149,
   "id": "a50a8192",
   "metadata": {},
   "outputs": [
    {
     "data": {
      "text/plain": [
       "Ttest_indResult(statistic=2.707244370904775, pvalue=0.003712474481164615)"
      ]
     },
     "execution_count": 149,
     "metadata": {},
     "output_type": "execute_result"
    }
   ],
   "source": [
    "# H0: sick babies have =< fetal movements than healthy babies\n",
    "# H1: sick babies have >fetal movements than healthy babies\n",
    "\n",
    "alpha = 0.05\n",
    "\n",
    "results = st.ttest_ind(fetal_movements_3, fetal_movements_1, equal_var = False, alternative = \"greater\")\n",
    "\n",
    "results"
   ]
  },
  {
   "cell_type": "code",
   "execution_count": 82,
   "id": "640dadfd",
   "metadata": {},
   "outputs": [
    {
     "data": {
      "text/plain": [
       "0.003712474481164615"
      ]
     },
     "execution_count": 82,
     "metadata": {},
     "output_type": "execute_result"
    }
   ],
   "source": [
    "p_value = results[1]\n",
    "p_value"
   ]
  },
  {
   "cell_type": "code",
   "execution_count": 83,
   "id": "11c141c9",
   "metadata": {},
   "outputs": [
    {
     "name": "stdout",
     "output_type": "stream",
     "text": [
      "we CAN reject the null hypothesis\n"
     ]
    }
   ],
   "source": [
    "if p_value > alpha:\n",
    "    print(\"we CAN NOT reject the null hypothesis\")\n",
    "else:\n",
    "    print(\"we CAN reject the null hypothesis\")"
   ]
  },
  {
   "cell_type": "code",
   "execution_count": 144,
   "id": "7d010205",
   "metadata": {},
   "outputs": [
    {
     "data": {
      "image/png": "[encoded data removed]",
      "text/plain": [
       "<Figure size 640x480 with 1 Axes>"
      ]
     },
     "metadata": {},
     "output_type": "display_data"
    }
   ],
   "source": [
    "\n",
    "\n",
    "### plotting fetal movements/fetal health\n",
    "\n",
    "plt.plot(fetal[\"fetal_movement\"], \"o\")\n",
    "plt.plot(fetal[fetal[\"fetal_health\"]==1][\"fetal_movement\"], \"o\", color = \"green\", label= \"Healthy\")\n",
    "#plt.plot(fetal[fetal[\"fetal_health\"]==2][\"baseline value\"], \"o\", color = \"orange\", label = \"Suspicious\")\n",
    "plt.plot(fetal[fetal[\"fetal_health\"]==3][\"fetal_movement\"], \"o\", color = \"red\", label= \"Pathological\")\n",
    "plt.title(\"Fetal Movements per second\")\n",
    "plt.xlabel(\"Observations\")\n",
    "plt.ylabel(\"Fetal Movements\")\n",
    "plt.legend(loc='upper right')\n",
    "plt.show()"
   ]
  },
  {
   "cell_type": "code",
   "execution_count": 143,
   "id": "8d347f63",
   "metadata": {},
   "outputs": [
    {
     "data": {
      "text/plain": [
       "Ttest_indResult(statistic=2.707244370904775, pvalue=0.00742494896232923)"
      ]
     },
     "execution_count": 143,
     "metadata": {},
     "output_type": "execute_result"
    }
   ],
   "source": [
    "## from our sample, are fetal movementes related to fetal health?\n",
    "\n",
    "results_attempt = st.ttest_ind(fetal_movements_3, fetal_movements_1, equal_var = False)\n",
    "\n",
    "results_attempt"
   ]
  },
  {
   "cell_type": "code",
   "execution_count": null,
   "id": "64d00683",
   "metadata": {},
   "outputs": [],
   "source": [
    "st.ttest_ind(ab_test[\"a\"], ab_test[\"b\"], equal_var = False)"
   ]
  },
  {
   "cell_type": "code",
   "execution_count": 148,
   "id": "2c74495e",
   "metadata": {},
   "outputs": [
    {
     "data": {
      "text/plain": [
       "0.00833220338983051"
      ]
     },
     "execution_count": 148,
     "metadata": {},
     "output_type": "execute_result"
    }
   ],
   "source": [
    "# just curiosity about suspicious CTG's\n",
    "\n",
    "fetal_movements_2 = fetal[fetal[\"fetal_health\"] == 2][\"fetal_movement\"]\n",
    "fetal_movements_2.mean()"
   ]
  },
  {
   "cell_type": "code",
   "execution_count": null,
   "id": "aee2ab49",
   "metadata": {},
   "outputs": [],
   "source": []
  },
  {
   "cell_type": "code",
   "execution_count": null,
   "id": "3589141b",
   "metadata": {},
   "outputs": [],
   "source": []
  },
  {
   "cell_type": "code",
   "execution_count": null,
   "id": "4c85e320",
   "metadata": {},
   "outputs": [],
   "source": []
  },
  {
   "cell_type": "code",
   "execution_count": null,
   "id": "c8c8ac24",
   "metadata": {},
   "outputs": [],
   "source": []
  },
  {
   "cell_type": "code",
   "execution_count": null,
   "id": "bacf466c",
   "metadata": {},
   "outputs": [],
   "source": []
  },
  {
   "cell_type": "code",
   "execution_count": null,
   "id": "d35f02cb",
   "metadata": {},
   "outputs": [],
   "source": []
  },
  {
   "cell_type": "code",
   "execution_count": null,
   "id": "b5aa3675",
   "metadata": {},
   "outputs": [],
   "source": []
  }
 ],
 "metadata": {
  "kernelspec": {
   "display_name": "Python 3 (ipykernel)",
   "language": "python",
   "name": "python3"
  },
  "language_info": {
   "codemirror_mode": {
    "name": "ipython",
    "version": 3
   },
   "file_extension": ".py",
   "mimetype": "text/x-python",
   "name": "python",
   "nbconvert_exporter": "python",
   "pygments_lexer": "ipython3",
   "version": "3.10.9"
  }
 },
 "nbformat": 4,
 "nbformat_minor": 5
}
